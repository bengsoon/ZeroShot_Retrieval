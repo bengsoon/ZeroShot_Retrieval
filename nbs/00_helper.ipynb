{
 "cells": [
  {
   "cell_type": "markdown",
   "metadata": {},
   "source": [
    "# Helper functions\n",
    "\n",
    "> Helper: Module containing helper functions for mlflow etc"
   ]
  },
  {
   "cell_type": "code",
   "execution_count": 1,
   "metadata": {},
   "outputs": [],
   "source": [
    "#| default_exp helper"
   ]
  },
  {
   "cell_type": "code",
   "execution_count": 3,
   "metadata": {},
   "outputs": [],
   "source": [
    "#| hide\n",
    "from nbdev.showdoc import *"
   ]
  },
  {
   "cell_type": "code",
   "execution_count": 4,
   "metadata": {},
   "outputs": [],
   "source": [
    "#| hide\n",
    "import nbdev; nbdev.nbdev_export()"
   ]
  },
  {
   "cell_type": "code",
   "execution_count": 1,
   "metadata": {},
   "outputs": [],
   "source": [
    "#| export\n",
    "from loguru import logger\n",
    "import os\n",
    "from pathlib import Path\n",
    "from fastcore.basics import patch_to, patch\n",
    "\n",
    "import mlflow\n",
    "from mlflow import MlflowClient\n",
    "from mlflow.entities import ViewType\n",
    "\n",
    "import pandas as pd\n",
    "\n",
    "from typing import Union, List\n",
    "\n",
    "from datetime import datetime"
   ]
  },
  {
   "cell_type": "markdown",
   "metadata": {
    "tags": []
   },
   "source": [
    "## MLflow"
   ]
  },
  {
   "cell_type": "code",
   "execution_count": null,
   "metadata": {
    "tags": []
   },
   "outputs": [],
   "source": [
    "#| export\n",
    "def setup_mlflow(tracking_uri: str, # MLflow server tracking uri\n",
    "                 experiment_id: Union[str, int], # Experiment name / ID \n",
    ") -> None:\n",
    "    \"MLflow set up.\"\n",
    "\n",
    "    mlflow.set_tracking_uri(tracking_uri)\n",
    "    mlflow.set_experiment(experiment_id)\n",
    "    logger.info(f\"Set MLflow experiment to {experiment_id}.\")"
   ]
  },
  {
   "cell_type": "code",
   "execution_count": null,
   "metadata": {},
   "outputs": [],
   "source": [
    "# setup_mlflow(\"#####\") #removed the URI for privacy"
   ]
  },
  {
   "cell_type": "code",
   "execution_count": 15,
   "metadata": {
    "tags": []
   },
   "outputs": [],
   "source": [
    "#| export\n",
    "def log_artifact(file: str, # path of the file to save\n",
    "                 artifact_path: str, # artifact path in mlflow \n",
    "                 run_id:str = None # run id to save the artifact. will create new run_id if None\n",
    "                ):\n",
    "    # logs a serialized artifact to MLflow\n",
    "    with mlflow.start_run(run_id):\n",
    "        mlflow.log_artifact(file, artifact_path)  "
   ]
  },
  {
   "cell_type": "markdown",
   "metadata": {},
   "source": [
    "Logs a serialized artifact to MLflow"
   ]
  },
  {
   "cell_type": "code",
   "execution_count": 16,
   "metadata": {
    "tags": []
   },
   "outputs": [],
   "source": [
    "#| export\n",
    "def search_runs(\n",
    "    filter_string: str, #  Filter query string, defaults to searching all runs.\n",
    "    experiment_ids: Union[List[int], int] = 1,  # List of experiment IDs, or a single int or string id.\n",
    "    max_results: int = None, # Maximum number of runs desired.\n",
    "    order: str =None # List of columns to order by (e.g., “metrics.rmse”). Can contain optional DESC or ASC value. Default value ASC.\n",
    ") -> List:\n",
    "    \" wrapper function for [mlflow.client.MlflowClient.search_runs](https://mlflow.org/docs/latest/python_api/mlflow.client.html#mlflow.client.MlflowClient.search_runs) \"\n",
    "    \n",
    "    results = MlflowClient().search_runs(\n",
    "        experiment_ids=str(experiment_ids),\n",
    "        filter_string=filter_string,\n",
    "        run_view_type=ViewType.ACTIVE_ONLY,\n",
    "        max_results=max_results,\n",
    "        order_by=order\n",
    "        )\n",
    "    \n",
    "    run_ids = []\n",
    "\n",
    "    for no, run in enumerate(results):\n",
    "        logger.info(f\"Run {no}: {run.info.run_id}\")\n",
    "        run_ids.append(run.info.run_id)\n",
    "    return run_ids"
   ]
  },
  {
   "cell_type": "markdown",
   "metadata": {},
   "source": [
    "Searches MLflow runs "
   ]
  },
  {
   "cell_type": "code",
   "execution_count": 17,
   "metadata": {
    "tags": []
   },
   "outputs": [
    {
     "name": "stderr",
     "output_type": "stream",
     "text": [
      "\u001b[32m2023-10-24 10:09:24.202\u001b[0m | \u001b[1mINFO    \u001b[0m | \u001b[36m__main__\u001b[0m:\u001b[36msearch_runs\u001b[0m:\u001b[36m21\u001b[0m - \u001b[1mRun 0: 389a9e1293034591bdc31dc7b7dc63ee\u001b[0m\n",
      "\u001b[32m2023-10-24 10:09:24.204\u001b[0m | \u001b[1mINFO    \u001b[0m | \u001b[36m__main__\u001b[0m:\u001b[36msearch_runs\u001b[0m:\u001b[36m21\u001b[0m - \u001b[1mRun 1: 5249f70572e144cf97499fe236a38da4\u001b[0m\n",
      "\u001b[32m2023-10-24 10:09:24.205\u001b[0m | \u001b[1mINFO    \u001b[0m | \u001b[36m__main__\u001b[0m:\u001b[36msearch_runs\u001b[0m:\u001b[36m21\u001b[0m - \u001b[1mRun 2: a60cdd3d5e794eff9e2a75228988099b\u001b[0m\n",
      "\u001b[32m2023-10-24 10:09:24.206\u001b[0m | \u001b[1mINFO    \u001b[0m | \u001b[36m__main__\u001b[0m:\u001b[36msearch_runs\u001b[0m:\u001b[36m21\u001b[0m - \u001b[1mRun 3: 3063b5ba5b2c44b4b148bdc84734e657\u001b[0m\n",
      "\u001b[32m2023-10-24 10:09:24.206\u001b[0m | \u001b[1mINFO    \u001b[0m | \u001b[36m__main__\u001b[0m:\u001b[36msearch_runs\u001b[0m:\u001b[36m21\u001b[0m - \u001b[1mRun 4: af072dcf20924719ba0a50fddf5bf809\u001b[0m\n",
      "\u001b[32m2023-10-24 10:09:24.207\u001b[0m | \u001b[1mINFO    \u001b[0m | \u001b[36m__main__\u001b[0m:\u001b[36msearch_runs\u001b[0m:\u001b[36m21\u001b[0m - \u001b[1mRun 5: fcb9be9381a44e528eb2e2b30a3b6c04\u001b[0m\n",
      "\u001b[32m2023-10-24 10:09:24.208\u001b[0m | \u001b[1mINFO    \u001b[0m | \u001b[36m__main__\u001b[0m:\u001b[36msearch_runs\u001b[0m:\u001b[36m21\u001b[0m - \u001b[1mRun 6: 0c6e7c0be2964efb9cf08607efbf81c9\u001b[0m\n",
      "\u001b[32m2023-10-24 10:09:24.209\u001b[0m | \u001b[1mINFO    \u001b[0m | \u001b[36m__main__\u001b[0m:\u001b[36msearch_runs\u001b[0m:\u001b[36m21\u001b[0m - \u001b[1mRun 7: 2b26a11cde204b26abd93886207f72a8\u001b[0m\n",
      "\u001b[32m2023-10-24 10:09:24.210\u001b[0m | \u001b[1mINFO    \u001b[0m | \u001b[36m__main__\u001b[0m:\u001b[36msearch_runs\u001b[0m:\u001b[36m21\u001b[0m - \u001b[1mRun 8: 4a98276740ad4df697cca3152fd6cab9\u001b[0m\n",
      "\u001b[32m2023-10-24 10:09:24.210\u001b[0m | \u001b[1mINFO    \u001b[0m | \u001b[36m__main__\u001b[0m:\u001b[36msearch_runs\u001b[0m:\u001b[36m21\u001b[0m - \u001b[1mRun 9: 063c3f91e6bc47a1b2e3cc7e73407ce7\u001b[0m\n",
      "\u001b[32m2023-10-24 10:09:24.211\u001b[0m | \u001b[1mINFO    \u001b[0m | \u001b[36m__main__\u001b[0m:\u001b[36msearch_runs\u001b[0m:\u001b[36m21\u001b[0m - \u001b[1mRun 10: ac4c922139184a95b68ea7fe00652644\u001b[0m\n",
      "\u001b[32m2023-10-24 10:09:24.211\u001b[0m | \u001b[1mINFO    \u001b[0m | \u001b[36m__main__\u001b[0m:\u001b[36msearch_runs\u001b[0m:\u001b[36m21\u001b[0m - \u001b[1mRun 11: b10f8529e3004025a7fa4fd9566d4870\u001b[0m\n"
     ]
    },
    {
     "data": {
      "text/plain": [
       "['389a9e1293034591bdc31dc7b7dc63ee',\n",
       " '5249f70572e144cf97499fe236a38da4',\n",
       " 'a60cdd3d5e794eff9e2a75228988099b',\n",
       " '3063b5ba5b2c44b4b148bdc84734e657',\n",
       " 'af072dcf20924719ba0a50fddf5bf809',\n",
       " 'fcb9be9381a44e528eb2e2b30a3b6c04',\n",
       " '0c6e7c0be2964efb9cf08607efbf81c9',\n",
       " '2b26a11cde204b26abd93886207f72a8',\n",
       " '4a98276740ad4df697cca3152fd6cab9',\n",
       " '063c3f91e6bc47a1b2e3cc7e73407ce7',\n",
       " 'ac4c922139184a95b68ea7fe00652644',\n",
       " 'b10f8529e3004025a7fa4fd9566d4870']"
      ]
     },
     "execution_count": 17,
     "metadata": {},
     "output_type": "execute_result"
    }
   ],
   "source": [
    "search_runs(\"\", experiment_ids = 1)"
   ]
  },
  {
   "cell_type": "code",
   "execution_count": 18,
   "metadata": {
    "tags": []
   },
   "outputs": [],
   "source": [
    "#| export\n",
    "def get_mlflow_model(run_id:str, # Run ID where artifact is stored\n",
    "                     artifact_name:str, # name of the artifact\n",
    "                     artifact_path:str=\"models\" # Path of the artifact within the run\n",
    "                    ) -> str:\n",
    "    \"Retrieves MLflow artifact path.\"\n",
    "    \n",
    "    model_path = Path(mlflow.artifacts.download_artifacts(run_id=run_id, artifact_path=artifact_path))\n",
    "    artifact_path = model_path / artifact_name\n",
    "    \n",
    "    return str(model_path / artifact_name)"
   ]
  },
  {
   "cell_type": "code",
   "execution_count": 19,
   "metadata": {
    "tags": []
   },
   "outputs": [
    {
     "data": {
      "text/plain": [
       "'/var/mlflow/mlruns/5/73ab5c472b574813a18be82f5395c546/artifacts/models/setfit_preliminary_sampling.pkl'"
      ]
     },
     "execution_count": 19,
     "metadata": {},
     "output_type": "execute_result"
    }
   ],
   "source": [
    "run_id = \"73ab5c472b574813a18be82f5395c546\"\n",
    "model_name = \"setfit_preliminary_sampling.pkl\"\n",
    "int2label_name = \"int2labeldict.pkl\"\n",
    "\n",
    "get_mlflow_model(run_id, model_name)"
   ]
  },
  {
   "cell_type": "markdown",
   "metadata": {},
   "source": [
    "Retrieves MLflow runs"
   ]
  },
  {
   "cell_type": "code",
   "execution_count": 20,
   "metadata": {
    "tags": []
   },
   "outputs": [
    {
     "data": {
      "text/plain": [
       "'/var/mlflow/mlruns/1/0c6e7c0be2964efb9cf08607efbf81c9/artifacts/models/topic_model'"
      ]
     },
     "execution_count": 20,
     "metadata": {},
     "output_type": "execute_result"
    }
   ],
   "source": [
    "run_id = \"0c6e7c0be2964efb9cf08607efbf81c9\"\n",
    "get_mlflow_model(run_id = run_id, artifact_name = \"topic_model\", artifact_path = \"models\")"
   ]
  },
  {
   "cell_type": "code",
   "execution_count": 21,
   "metadata": {
    "tags": []
   },
   "outputs": [],
   "source": [
    "#| export\n",
    "def register_model(run_id: str, # Run ID from MLflow where model resides (eg `73ab5c472b574813a18be82f5395c546`)\n",
    "                   model_path: str, # Path of the model (eg `setfit_preliminary.pkl`)\n",
    "                   model_name: str, # Name of the model\n",
    "                  ):\n",
    "    mlflow.register_model(f\"runs:/{run_id}/{model_path}\", model_name)"
   ]
  },
  {
   "cell_type": "code",
   "execution_count": 23,
   "metadata": {
    "tags": []
   },
   "outputs": [],
   "source": [
    "#| export\n",
    "#TODO\n",
    "def get_latest_registered_model(name: str, # Name of the registered model,\n",
    "                                only_run_id: bool = True # returns only `run_id` rather than path to model artifact\n",
    "                               ):\n",
    "    if only_run_id:\n",
    "        return MlflowClient().get_latest_versions(name)[0].run_id\n",
    "    else:\n",
    "        return MlflowClient().get_latest_versions(name)[0].source.replace(\"file://\", \"\")\n",
    "    "
   ]
  },
  {
   "cell_type": "markdown",
   "metadata": {
    "tags": []
   },
   "source": [
    "## DataFrame"
   ]
  },
  {
   "cell_type": "code",
   "execution_count": 26,
   "metadata": {
    "tags": []
   },
   "outputs": [],
   "source": [
    "#| export\n",
    "def view_df(df: \"pd.DataFrame\", # Pandas DataFrame to be viewed\n",
    "            min_rows: int = 60, # minimum row \n",
    "            max_colswidth: int = 500, # maximum width of the column\n",
    "            max_cols: int = None # maximum columns\n",
    "           ):\n",
    "    \"View dataframe in full columns in Jupyter! If `max_cols==None`, it will show the full column.\"\n",
    "    \n",
    "    with pd.option_context('display.max_columns', max_cols, 'display.min_rows', min_rows, 'display.max_colwidth', max_colswidth):\n",
    "        display(df)"
   ]
  },
  {
   "cell_type": "markdown",
   "metadata": {},
   "source": [
    "## Others"
   ]
  },
  {
   "cell_type": "code",
   "execution_count": 8,
   "metadata": {},
   "outputs": [],
   "source": [
    "#| export\n",
    "def get_now():\n",
    "    \" Returns the time now in 'yyyy-mm-dd_HHMMSS\"\n",
    "    return datetime.now().strftime(\"%Y%m%d_%H%M%S\")"
   ]
  },
  {
   "cell_type": "code",
   "execution_count": 9,
   "metadata": {},
   "outputs": [
    {
     "data": {
      "text/plain": [
       "'20231028_021425'"
      ]
     },
     "execution_count": 9,
     "metadata": {},
     "output_type": "execute_result"
    }
   ],
   "source": [
    "get_now()"
   ]
  },
  {
   "cell_type": "code",
   "execution_count": 10,
   "metadata": {},
   "outputs": [],
   "source": [
    "#| export\n",
    "def get_today(fmt=\"%Y-%m-%d\"):\n",
    "    \" Returns today's date (default format: 'yyyy-mm-dd')\"\n",
    "    return datetime.today().strftime(fmt)"
   ]
  },
  {
   "cell_type": "code",
   "execution_count": 27,
   "metadata": {},
   "outputs": [],
   "source": [
    "#| hide\n",
    "import nbdev; nbdev.nbdev_export()"
   ]
  },
  {
   "cell_type": "code",
   "execution_count": null,
   "metadata": {},
   "outputs": [],
   "source": []
  }
 ],
 "metadata": {
  "kernelspec": {
   "display_name": "xcs224u",
   "language": "python",
   "name": "xcs224u"
  },
  "language_info": {
   "codemirror_mode": {
    "name": "ipython",
    "version": 3
   },
   "file_extension": ".py",
   "mimetype": "text/x-python",
   "name": "python",
   "nbconvert_exporter": "python",
   "pygments_lexer": "ipython3",
   "version": "3.9.18"
  }
 },
 "nbformat": 4,
 "nbformat_minor": 4
}
